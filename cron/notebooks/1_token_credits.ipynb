{
 "cells": [
  {
   "cell_type": "code",
   "execution_count": 24,
   "metadata": {},
   "outputs": [],
   "source": [
    "import os\n",
    "\n",
    "import dotenv\n",
    "from pymongo import MongoClient\n",
    "\n",
    "dotenv.load_dotenv()\n",
    "\n",
    "SERVER_MONGO_URI = os.getenv(\"MONGO_URI_SERVER\")\n",
    "\n",
    "client = MongoClient(SERVER_MONGO_URI)"
   ]
  },
  {
   "cell_type": "code",
   "execution_count": 4,
   "metadata": {},
   "outputs": [
    {
     "data": {
      "text/plain": [
       "UpdateResult({'n': 23, 'nModified': 23, 'ok': 1.0, 'updatedExisting': True}, acknowledged=True)"
      ]
     },
     "execution_count": 4,
     "metadata": {},
     "output_type": "execute_result"
    }
   ],
   "source": [
    "token_credits_threshold = int(1e6)\n",
    "\n",
    "balances_lower_than_token_credits_threshold = list(\n",
    "    client.LibreChat.balances.find({\"tokenCredits\": {\"$lt\": token_credits_threshold}})\n",
    ")\n",
    "client.LibreChat.balances.update_many(\n",
    "    {\"_id\": {\"$in\": [balance[\"_id\"] for balance in balances_lower_than_token_credits_threshold]}},\n",
    "    {\"$set\": {\"tokenCredits\": token_credits_threshold}},\n",
    ")"
   ]
  }
 ],
 "metadata": {
  "kernelspec": {
   "display_name": ".venv",
   "language": "python",
   "name": "python3"
  },
  "language_info": {
   "codemirror_mode": {
    "name": "ipython",
    "version": 3
   },
   "file_extension": ".py",
   "mimetype": "text/x-python",
   "name": "python",
   "nbconvert_exporter": "python",
   "pygments_lexer": "ipython3",
   "version": "3.12.9"
  }
 },
 "nbformat": 4,
 "nbformat_minor": 2
}
