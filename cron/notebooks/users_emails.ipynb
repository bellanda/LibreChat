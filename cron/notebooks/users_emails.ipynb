{
 "cells": [
  {
   "cell_type": "code",
   "execution_count": 13,
   "metadata": {},
   "outputs": [],
   "source": [
    "import os\n",
    "\n",
    "import dotenv\n",
    "from pymongo import MongoClient\n",
    "\n",
    "dotenv.load_dotenv()\n",
    "\n",
    "SERVER_MONGO_URI = os.getenv(\"MONGO_URI_SERVER\")\n",
    "\n",
    "client = MongoClient(SERVER_MONGO_URI)"
   ]
  },
  {
   "cell_type": "code",
   "execution_count": 16,
   "metadata": {},
   "outputs": [
    {
     "name": "stdout",
     "output_type": "stream",
     "text": [
      "📨 E‑mails concatenados:\n"
     ]
    }
   ],
   "source": [
    "# Busca apenas o campo \"email\" (exclui _id para deixar a saída mais limpa)\n",
    "cursor = client.LibreChat.users.find(\n",
    "    {},  # filtro vazio → traz todos os documentos\n",
    "    {\"_id\": 0, \"email\": 1},  # projeção: só queremos o campo email\n",
    ")\n",
    "\n",
    "# Converte o cursor em uma lista de strings\n",
    "emails = [doc[\"email\"] for doc in cursor if \"email\" in doc]\n",
    "\n",
    "# Junta tudo em uma única string separada por vírgulas\n",
    "emails_str = \", \".join(emails)\n",
    "\n",
    "print(\"📨 E‑mails concatenados:\")\n",
    "with open(\"./emails.local.txt\", \"w\") as f:\n",
    "    f.write(emails_str)"
   ]
  }
 ],
 "metadata": {
  "kernelspec": {
   "display_name": ".venv",
   "language": "python",
   "name": "python3"
  },
  "language_info": {
   "codemirror_mode": {
    "name": "ipython",
    "version": 3
   },
   "file_extension": ".py",
   "mimetype": "text/x-python",
   "name": "python",
   "nbconvert_exporter": "python",
   "pygments_lexer": "ipython3",
   "version": "3.12.9"
  }
 },
 "nbformat": 4,
 "nbformat_minor": 2
}
