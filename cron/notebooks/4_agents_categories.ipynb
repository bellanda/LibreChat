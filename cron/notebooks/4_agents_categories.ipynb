{
 "cells": [
  {
   "cell_type": "code",
   "execution_count": null,
   "id": "0a3a2410",
   "metadata": {},
   "outputs": [],
   "source": [
    "import json\n",
    "import os\n",
    "\n",
    "import dotenv\n",
    "from pymongo import MongoClient\n",
    "\n",
    "dotenv.load_dotenv(override=True)\n",
    "\n",
    "LOCAL_MONGO_URI = os.getenv(\"MONGO_URI\")\n",
    "SERVER_MONGO_URI = os.getenv(\"MONGO_URI_SERVER\")\n",
    "\n",
    "local_client = MongoClient(LOCAL_MONGO_URI)\n",
    "server_client = MongoClient(SERVER_MONGO_URI)\n",
    "\n",
    "with open(\"../../groups-config.json\", \"r\") as f:\n",
    "    groups_config = json.load(f)\n",
    "\n",
    "with open(\"../../models-descriptions.json\", \"r\") as f:\n",
    "    models_descriptions = json.load(f)"
   ]
  },
  {
   "cell_type": "markdown",
   "id": "4ea2b2e1",
   "metadata": {},
   "source": [
    "# Local\n"
   ]
  },
  {
   "cell_type": "code",
   "execution_count": null,
   "id": "6e7297af",
   "metadata": {},
   "outputs": [],
   "source": [
    "local_client.LibreChat.groupsconfigs.delete_many({})\n",
    "local_client.LibreChat.modelsdescriptions.delete_many({})\n",
    "\n",
    "local_client.LibreChat.groupsconfigs.insert_one(groups_config)\n",
    "local_client.LibreChat.modelsdescriptions.insert_one(models_descriptions)"
   ]
  },
  {
   "cell_type": "markdown",
   "id": "757f51a1",
   "metadata": {},
   "source": [
    "# Server\n"
   ]
  },
  {
   "cell_type": "code",
   "execution_count": null,
   "id": "8c2c84f8",
   "metadata": {},
   "outputs": [],
   "source": [
    "server_client.LibreChat.groupsconfigs.delete_many({})\n",
    "server_client.LibreChat.modelsdescriptions.delete_many({})\n",
    "\n",
    "server_client.LibreChat.groupsconfigs.insert_one(groups_config)\n",
    "server_client.LibreChat.modelsdescriptions.insert_one(models_descriptions)"
   ]
  }
 ],
 "metadata": {
  "language_info": {
   "name": "python"
  }
 },
 "nbformat": 4,
 "nbformat_minor": 5
}
