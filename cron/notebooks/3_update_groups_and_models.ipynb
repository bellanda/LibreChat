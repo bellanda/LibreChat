{
 "cells": [
  {
   "cell_type": "code",
   "execution_count": 1,
   "metadata": {},
   "outputs": [],
   "source": [
    "import json\n",
    "import os\n",
    "\n",
    "import dotenv\n",
    "from pymongo import MongoClient\n",
    "\n",
    "dotenv.load_dotenv(override=True)\n",
    "\n",
    "LOCAL_MONGO_URI = os.getenv(\"MONGO_URI\")\n",
    "SERVER_MONGO_URI = os.getenv(\"MONGO_URI_SERVER\")\n",
    "\n",
    "local_client = MongoClient(LOCAL_MONGO_URI)\n",
    "server_client = MongoClient(SERVER_MONGO_URI)\n",
    "\n",
    "with open(\"../../groups-config.json\", \"r\") as f:\n",
    "    groups_config = json.load(f)\n",
    "\n",
    "with open(\"../../models-descriptions.json\", \"r\") as f:\n",
    "    models_descriptions = json.load(f)"
   ]
  },
  {
   "cell_type": "markdown",
   "metadata": {},
   "source": [
    "# Local\n"
   ]
  },
  {
   "cell_type": "code",
   "execution_count": 2,
   "metadata": {},
   "outputs": [
    {
     "data": {
      "text/plain": [
       "InsertOneResult(ObjectId('68beccd4c05e89fbb14f83ca'), acknowledged=True)"
      ]
     },
     "execution_count": 2,
     "metadata": {},
     "output_type": "execute_result"
    }
   ],
   "source": [
    "local_client.LibreChat.groupsconfigs.delete_many({})\n",
    "local_client.LibreChat.modelsdescriptions.delete_many({})\n",
    "\n",
    "local_client.LibreChat.groupsconfigs.insert_one(groups_config)\n",
    "local_client.LibreChat.modelsdescriptions.insert_one(models_descriptions)"
   ]
  },
  {
   "cell_type": "markdown",
   "metadata": {},
   "source": [
    "# Server\n"
   ]
  },
  {
   "cell_type": "code",
   "execution_count": null,
   "metadata": {},
   "outputs": [],
   "source": [
    "server_client.LibreChat.groupsconfigs.delete_many({})\n",
    "server_client.LibreChat.modelsdescriptions.delete_many({})\n",
    "\n",
    "server_client.LibreChat.groupsconfigs.insert_one(groups_config)\n",
    "server_client.LibreChat.modelsdescriptions.insert_one(models_descriptions)"
   ]
  }
 ],
 "metadata": {
  "kernelspec": {
   "display_name": ".venv",
   "language": "python",
   "name": "python3"
  },
  "language_info": {
   "codemirror_mode": {
    "name": "ipython",
    "version": 3
   },
   "file_extension": ".py",
   "mimetype": "text/x-python",
   "name": "python",
   "nbconvert_exporter": "python",
   "pygments_lexer": "ipython3",
   "version": "3.12.9"
  }
 },
 "nbformat": 4,
 "nbformat_minor": 2
}
