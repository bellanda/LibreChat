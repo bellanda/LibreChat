{
  "cells": [
    {
      "cell_type": "code",
      "execution_count": 13,
      "metadata": {},
      "outputs": [
        {
          "name": "stdout",
          "output_type": "stream",
          "text": [
            "📋 Carregadas 23 categorias do JSON\n"
          ]
        }
      ],
      "source": [
        "import json\n",
        "import os\n",
        "from datetime import datetime\n",
        "\n",
        "import dotenv\n",
        "from pymongo import MongoClient\n",
        "\n",
        "dotenv.load_dotenv(override=True)\n",
        "\n",
        "LOCAL_MONGO_URI = os.getenv(\"MONGO_URI\")\n",
        "SERVER_MONGO_URI = os.getenv(\"MONGO_URI_SERVER\")\n",
        "\n",
        "local_client = MongoClient(LOCAL_MONGO_URI)\n",
        "server_client = MongoClient(SERVER_MONGO_URI)\n",
        "\n",
        "# Carrega as categorias do JSON\n",
        "with open(\"../../agents-categories.local.json\", \"r\") as f:\n",
        "    categories = json.load(f)\n",
        "\n",
        "print(f\"📋 Carregadas {len(categories)} categorias do JSON\")\n"
      ]
    },
    {
      "cell_type": "code",
      "execution_count": 14,
      "metadata": {},
      "outputs": [],
      "source": [
        "def sync_categories_to_db(client, db_name=\"LibreChat\"):\n",
        "    \"\"\"Sincroniza categorias do JSON para o MongoDB\"\"\"\n",
        "    db = client[db_name]\n",
        "    collection = db.agentcategories\n",
        "\n",
        "    print(f\"🔄 Sincronizando categorias para {db_name}...\")\n",
        "\n",
        "    # Limpa todas as categorias existentes\n",
        "    result = collection.delete_many({})\n",
        "    print(f\"🗑️  Removidas {result.deleted_count} categorias existentes\")\n",
        "\n",
        "    # Adiciona timestamps às categorias\n",
        "    categories_with_timestamps = []\n",
        "    for category in categories:\n",
        "        category_copy = category.copy()\n",
        "        category_copy[\"createdAt\"] = datetime.utcnow()\n",
        "        category_copy[\"updatedAt\"] = datetime.utcnow()\n",
        "        categories_with_timestamps.append(category_copy)\n",
        "\n",
        "    # Insere as novas categorias\n",
        "    if categories_with_timestamps:\n",
        "        result = collection.insert_many(categories_with_timestamps)\n",
        "        print(f\"✅ Inseridas {len(result.inserted_ids)} novas categorias\")\n",
        "\n",
        "        # Mostra as categorias inseridas\n",
        "        print(\"\\n📋 Categorias sincronizadas:\")\n",
        "        for cat in categories:\n",
        "            status = \"🟢 Ativa\" if cat.get(\"isActive\", True) else \"🔴 Inativa\"\n",
        "            custom = \"🔧 Personalizada\" if cat.get(\"custom\", False) else \"📦 Padrão\"\n",
        "            print(f\"  • {cat['value']:<20} | {cat['label']:<30} | Ordem: {cat.get('order', 0):<2} | {status} | {custom}\")\n",
        "    else:\n",
        "        print(\"⚠️  Nenhuma categoria para sincronizar\")\n",
        "\n",
        "    print(f\"✅ Sincronização concluída para {db_name}\\n\")\n"
      ]
    },
    {
      "cell_type": "code",
      "execution_count": 15,
      "metadata": {},
      "outputs": [
        {
          "name": "stdout",
          "output_type": "stream",
          "text": [
            "🔄 Sincronizando categorias para LibreChat...\n",
            "🗑️  Removidas 23 categorias existentes\n",
            "✅ Inseridas 23 novas categorias\n",
            "\n",
            "📋 Categorias sincronizadas:\n",
            "  • geral                | 🪶 Geral                        | Ordem: 0  | 🟢 Ativa | 🔧 Personalizada\n",
            "  • motores-montagem     | 🔧 Montagem                     | Ordem: 1  | 🟢 Ativa | 🔧 Personalizada\n",
            "  • body-shop-pintura    | 🚙 BS & Pintura                 | Ordem: 1  | 🟢 Ativa | 🔧 Personalizada\n",
            "  • logistica            | 🚚 Logística                    | Ordem: 2  | 🟢 Ativa | 🔧 Personalizada\n",
            "  • qualidade            | ✅ Qualidade                    | Ordem: 3  | 🟢 Ativa | 🔧 Personalizada\n",
            "  • planejamento-industrial | 📈 Plan. Industrial             | Ordem: 4  | 🟢 Ativa | 🔧 Personalizada\n",
            "  • manutencao           | 🛠️ Manutenção                  | Ordem: 5  | 🟢 Ativa | 🔧 Personalizada\n",
            "  • planejamento-estrategico | 🧭 Plan. Estratégico            | Ordem: 6  | 🟢 Ativa | 🔧 Personalizada\n",
            "  • engenharia           | 🛠️ Engenharia                  | Ordem: 7  | 🟢 Ativa | 🔧 Personalizada\n",
            "  • compras              | 🛒 Compras                      | Ordem: 8  | 🟢 Ativa | 🔧 Personalizada\n",
            "  • pmo-melhoria-operacional | 🚀 PMO                          | Ordem: 9  | 🟢 Ativa | 🔧 Personalizada\n",
            "  • marketing-eventos    | 📣 Marketing                    | Ordem: 10 | 🟢 Ativa | 🔧 Personalizada\n",
            "  • locadora             | 🏢 Locadora                     | Ordem: 11 | 🟢 Ativa | 🔧 Personalizada\n",
            "  • comercial            | 💼 Comercial                    | Ordem: 12 | 🟢 Ativa | 🔧 Personalizada\n",
            "  • pos-venda            | 🛒 Pós‑Venda                    | Ordem: 13 | 🟢 Ativa | 🔧 Personalizada\n",
            "  • hpe-seguros          | 🛡️ HPE Seguros                 | Ordem: 14 | 🟢 Ativa | 🔧 Personalizada\n",
            "  • financeiro           | 💰 Financeiro                   | Ordem: 15 | 🟢 Ativa | 🔧 Personalizada\n",
            "  • fp-a                 | 📈 FP&A                         | Ordem: 16 | 🟢 Ativa | 🔧 Personalizada\n",
            "  • controladoria        | 📊 Controladoria                | Ordem: 17 | 🟢 Ativa | 🔧 Personalizada\n",
            "  • fiscal               | 🧾 Fiscal                       | Ordem: 18 | 🟢 Ativa | 🔧 Personalizada\n",
            "  • juridico             | ⚖️ Jurídico                    | Ordem: 19 | 🟢 Ativa | 🔧 Personalizada\n",
            "  • gente-gestao         | 👥 Gente & Gestão               | Ordem: 20 | 🟢 Ativa | 🔧 Personalizada\n",
            "  • ti                   | 💻 TI                           | Ordem: 21 | 🟢 Ativa | 🔧 Personalizada\n",
            "✅ Sincronização concluída para LibreChat\n",
            "\n",
            "🔄 Sincronizando categorias para LibreChat...\n",
            "🗑️  Removidas 23 categorias existentes\n",
            "✅ Inseridas 23 novas categorias\n",
            "\n",
            "📋 Categorias sincronizadas:\n",
            "  • geral                | 🪶 Geral                        | Ordem: 0  | 🟢 Ativa | 🔧 Personalizada\n",
            "  • motores-montagem     | 🔧 Montagem                     | Ordem: 1  | 🟢 Ativa | 🔧 Personalizada\n",
            "  • body-shop-pintura    | 🚙 BS & Pintura                 | Ordem: 1  | 🟢 Ativa | 🔧 Personalizada\n",
            "  • logistica            | 🚚 Logística                    | Ordem: 2  | 🟢 Ativa | 🔧 Personalizada\n",
            "  • qualidade            | ✅ Qualidade                    | Ordem: 3  | 🟢 Ativa | 🔧 Personalizada\n",
            "  • planejamento-industrial | 📈 Plan. Industrial             | Ordem: 4  | 🟢 Ativa | 🔧 Personalizada\n",
            "  • manutencao           | 🛠️ Manutenção                  | Ordem: 5  | 🟢 Ativa | 🔧 Personalizada\n",
            "  • planejamento-estrategico | 🧭 Plan. Estratégico            | Ordem: 6  | 🟢 Ativa | 🔧 Personalizada\n",
            "  • engenharia           | 🛠️ Engenharia                  | Ordem: 7  | 🟢 Ativa | 🔧 Personalizada\n",
            "  • compras              | 🛒 Compras                      | Ordem: 8  | 🟢 Ativa | 🔧 Personalizada\n",
            "  • pmo-melhoria-operacional | 🚀 PMO                          | Ordem: 9  | 🟢 Ativa | 🔧 Personalizada\n",
            "  • marketing-eventos    | 📣 Marketing                    | Ordem: 10 | 🟢 Ativa | 🔧 Personalizada\n",
            "  • locadora             | 🏢 Locadora                     | Ordem: 11 | 🟢 Ativa | 🔧 Personalizada\n",
            "  • comercial            | 💼 Comercial                    | Ordem: 12 | 🟢 Ativa | 🔧 Personalizada\n",
            "  • pos-venda            | 🛒 Pós‑Venda                    | Ordem: 13 | 🟢 Ativa | 🔧 Personalizada\n",
            "  • hpe-seguros          | 🛡️ HPE Seguros                 | Ordem: 14 | 🟢 Ativa | 🔧 Personalizada\n",
            "  • financeiro           | 💰 Financeiro                   | Ordem: 15 | 🟢 Ativa | 🔧 Personalizada\n",
            "  • fp-a                 | 📈 FP&A                         | Ordem: 16 | 🟢 Ativa | 🔧 Personalizada\n",
            "  • controladoria        | 📊 Controladoria                | Ordem: 17 | 🟢 Ativa | 🔧 Personalizada\n",
            "  • fiscal               | 🧾 Fiscal                       | Ordem: 18 | 🟢 Ativa | 🔧 Personalizada\n",
            "  • juridico             | ⚖️ Jurídico                    | Ordem: 19 | 🟢 Ativa | 🔧 Personalizada\n",
            "  • gente-gestao         | 👥 Gente & Gestão               | Ordem: 20 | 🟢 Ativa | 🔧 Personalizada\n",
            "  • ti                   | 💻 TI                           | Ordem: 21 | 🟢 Ativa | 🔧 Personalizada\n",
            "✅ Sincronização concluída para LibreChat\n",
            "\n"
          ]
        },
        {
          "name": "stderr",
          "output_type": "stream",
          "text": [
            "/tmp/ipykernel_20874/3310274287.py:16: DeprecationWarning: datetime.datetime.utcnow() is deprecated and scheduled for removal in a future version. Use timezone-aware objects to represent datetimes in UTC: datetime.datetime.now(datetime.UTC).\n",
            "  category_copy[\"createdAt\"] = datetime.utcnow()\n",
            "/tmp/ipykernel_20874/3310274287.py:17: DeprecationWarning: datetime.datetime.utcnow() is deprecated and scheduled for removal in a future version. Use timezone-aware objects to represent datetimes in UTC: datetime.datetime.now(datetime.UTC).\n",
            "  category_copy[\"updatedAt\"] = datetime.utcnow()\n"
          ]
        }
      ],
      "source": [
        "sync_categories_to_db(local_client, \"LibreChat\")\n",
        "sync_categories_to_db(server_client, \"LibreChat\")"
      ]
    }
  ],
  "metadata": {
    "kernelspec": {
      "display_name": ".venv",
      "language": "python",
      "name": "python3"
    },
    "language_info": {
      "codemirror_mode": {
        "name": "ipython",
        "version": 3
      },
      "file_extension": ".py",
      "mimetype": "text/x-python",
      "name": "python",
      "nbconvert_exporter": "python",
      "pygments_lexer": "ipython3",
      "version": "3.12.9"
    }
  },
  "nbformat": 4,
  "nbformat_minor": 2
}
