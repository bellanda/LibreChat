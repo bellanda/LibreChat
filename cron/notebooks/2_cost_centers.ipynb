{
 "cells": [
  {
   "cell_type": "code",
   "execution_count": 24,
   "metadata": {},
   "outputs": [],
   "source": [
    "import os\n",
    "import pathlib\n",
    "import sys\n",
    "\n",
    "sys.path.append(str(pathlib.Path(__vsc_ipynb_file__).resolve().parent.parent))"
   ]
  },
  {
   "cell_type": "code",
   "execution_count": 25,
   "metadata": {},
   "outputs": [],
   "source": [
    "import dotenv\n",
    "import polars as pl\n",
    "from pymongo import MongoClient, UpdateOne\n",
    "\n",
    "from utils.database.oracle_manager import get_engine\n",
    "\n",
    "dotenv.load_dotenv()\n",
    "\n",
    "SERVER_MONGO_URI = os.getenv(\"MONGO_URI_SERVER\")\n",
    "\n",
    "client = MongoClient(SERVER_MONGO_URI)"
   ]
  },
  {
   "cell_type": "code",
   "execution_count": 26,
   "metadata": {},
   "outputs": [
    {
     "name": "stdout",
     "output_type": "stream",
     "text": [
      "⚡ Oracle query to Polars DataFrame: 0.01 seconds\n"
     ]
    }
   ],
   "source": [
    "users = tuple(user[\"username\"] for user in client.LibreChat.users.find({}, {\"username\": 1, \"_id\": 0}))\n",
    "users_df = get_engine(\"PSFIN19\").sql_query_to_polars_df(\n",
    "    f\"SELECT * FROM MMC_USERS_AD WHERE STATUSFUNC = 'A' AND LOGIN IN {users}\"\n",
    ")\n",
    "users_df.columns = [col.upper() for col in users_df.columns]"
   ]
  },
  {
   "cell_type": "code",
   "execution_count": 27,
   "metadata": {},
   "outputs": [
    {
     "data": {
      "text/plain": [
       "BulkWriteResult({'writeErrors': [], 'writeConcernErrors': [], 'nInserted': 0, 'nUpserted': 0, 'nMatched': 111, 'nModified': 0, 'nRemoved': 0, 'upserted': []}, acknowledged=True)"
      ]
     },
     "execution_count": 27,
     "metadata": {},
     "output_type": "execute_result"
    }
   ],
   "source": [
    "users_to_update = {}\n",
    "\n",
    "for user in users_df.iter_rows(named=True):\n",
    "    users_to_update[user[\"LOGIN\"]] = {\n",
    "        \"costCenterCode\": user[\"CODCCUSTO\"],\n",
    "        \"costCenterName\": user[\"NOMECCUSTO\"],\n",
    "        \"workPositionCode\": user[\"CODCARGO\"],\n",
    "        \"workPositionName\": user[\"NOMECARGO\"],\n",
    "    }\n",
    "\n",
    "operations = [\n",
    "    UpdateOne(\n",
    "        {\"username\": user},\n",
    "        {\"$set\": users_to_update[user]},\n",
    "    )\n",
    "    for user in users_to_update\n",
    "]\n",
    "\n",
    "client.LibreChat.users.bulk_write(operations)"
   ]
  }
 ],
 "metadata": {
  "kernelspec": {
   "display_name": ".venv",
   "language": "python",
   "name": "python3"
  },
  "language_info": {
   "codemirror_mode": {
    "name": "ipython",
    "version": 3
   },
   "file_extension": ".py",
   "mimetype": "text/x-python",
   "name": "python",
   "nbconvert_exporter": "python",
   "pygments_lexer": "ipython3",
   "version": "3.12.9"
  }
 },
 "nbformat": 4,
 "nbformat_minor": 2
}
