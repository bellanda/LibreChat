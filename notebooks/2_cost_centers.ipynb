{
 "cells": [
  {
   "cell_type": "code",
   "execution_count": 1,
   "metadata": {},
   "outputs": [],
   "source": [
    "import os\n",
    "\n",
    "import dotenv\n",
    "import polars as pl\n",
    "from pymongo import MongoClient, UpdateOne\n",
    "\n",
    "dotenv.load_dotenv()\n",
    "\n",
    "SERVER_MONGO_URI = os.getenv(\"MONGO_URI_SERVER\")\n",
    "\n",
    "client = MongoClient(SERVER_MONGO_URI)"
   ]
  },
  {
   "cell_type": "code",
   "execution_count": 8,
   "metadata": {},
   "outputs": [],
   "source": [
    "users = tuple(user[\"username\"] for user in client.LibreChat.users.find({}, {\"username\": 1, \"_id\": 0}))\n",
    "users_df = pl.read_csv(\"/mnt/c/Users/OU000150/Downloads/MMC_USERS_AD.csv\")\n",
    "users_df = users_df.filter(pl.col(\"LOGIN\").is_in(users), pl.col(\"STATUSFUNC\") == \"A\")"
   ]
  },
  {
   "cell_type": "code",
   "execution_count": 10,
   "metadata": {},
   "outputs": [
    {
     "data": {
      "text/plain": [
       "BulkWriteResult({'writeErrors': [], 'writeConcernErrors': [], 'nInserted': 0, 'nUpserted': 0, 'nMatched': 90, 'nModified': 30, 'nRemoved': 0, 'upserted': []}, acknowledged=True)"
      ]
     },
     "execution_count": 10,
     "metadata": {},
     "output_type": "execute_result"
    }
   ],
   "source": [
    "users_to_update = {}\n",
    "\n",
    "for user in users_df.iter_rows(named=True):\n",
    "    users_to_update[user[\"LOGIN\"]] = {\n",
    "        \"costCenterCode\": user[\"CODCCUSTO\"],\n",
    "        \"costCenterName\": user[\"NOMECCUSTO\"],\n",
    "        \"workPositionCode\": user[\"CODCARGO\"],\n",
    "        \"workPositionName\": user[\"NOMECARGO\"],\n",
    "    }\n",
    "\n",
    "operations = [\n",
    "    UpdateOne(\n",
    "        {\"username\": user},\n",
    "        {\"$set\": users_to_update[user]},\n",
    "    )\n",
    "    for user in users_to_update\n",
    "]\n",
    "\n",
    "client.LibreChat.users.bulk_write(operations)"
   ]
  }
 ],
 "metadata": {
  "kernelspec": {
   "display_name": ".venv",
   "language": "python",
   "name": "python3"
  },
  "language_info": {
   "codemirror_mode": {
    "name": "ipython",
    "version": 3
   },
   "file_extension": ".py",
   "mimetype": "text/x-python",
   "name": "python",
   "nbconvert_exporter": "python",
   "pygments_lexer": "ipython3",
   "version": "3.12.9"
  }
 },
 "nbformat": 4,
 "nbformat_minor": 2
}
