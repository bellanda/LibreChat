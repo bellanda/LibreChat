{
 "cells": [
  {
   "cell_type": "code",
   "execution_count": 41,
   "metadata": {},
   "outputs": [],
   "source": [
    "import os\n",
    "\n",
    "import dotenv\n",
    "from pymongo import MongoClient\n",
    "\n",
    "dotenv.load_dotenv()\n",
    "\n",
    "SERVER_MONGO_URI = os.getenv(\"MONGO_URI_SERVER\")\n",
    "\n",
    "client = MongoClient(SERVER_MONGO_URI)"
   ]
  },
  {
   "cell_type": "code",
   "execution_count": null,
   "metadata": {},
   "outputs": [],
   "source": [
    "balances_lower_than_700000 = list(client.LibreChat.balances.find({\"tokenCredits\": {\"$lt\": 700000}}))\n",
    "\n",
    "for balance in balances_lower_than_700000:\n",
    "    user_obj = balance[\"user\"]\n",
    "    print(client.LibreChat.users.find_one({\"_id\": user_obj})[\"name\"])"
   ]
  },
  {
   "cell_type": "markdown",
   "metadata": {},
   "source": [
    "# Get all messages from a user:\n"
   ]
  },
  {
   "cell_type": "code",
   "execution_count": null,
   "metadata": {},
   "outputs": [],
   "source": [
    "user = str(client.LibreChat.users.find_one({\"username\": \"gb810437\"})[\"_id\"])\n",
    "messages = client.LibreChat.messages.find({\"user\": user}, {\"text\": 1, \"_id\": 0})\n",
    "messages.to_list()"
   ]
  },
  {
   "cell_type": "code",
   "execution_count": null,
   "metadata": {},
   "outputs": [],
   "source": [
    "user = str(client.LibreChat.users.find_one({\"username\": \"gb810437\"})[\"_id\"])\n",
    "excludedConversations = client.LibreChat.conversationhistories.find({\"user\": user}, {\"fullMessages\": {\"text\": 1}, \"_id\": 0})\n",
    "final_messages = []\n",
    "for message in excludedConversations.to_list():\n",
    "    for message_obj in message[\"fullMessages\"]:\n",
    "        final_messages.append(message_obj[\"text\"])\n",
    "\n",
    "print(\"\\n\\n\".join(final_messages))"
   ]
  }
 ],
 "metadata": {
  "kernelspec": {
   "display_name": ".venv",
   "language": "python",
   "name": "python3"
  },
  "language_info": {
   "codemirror_mode": {
    "name": "ipython",
    "version": 3
   },
   "file_extension": ".py",
   "mimetype": "text/x-python",
   "name": "python",
   "nbconvert_exporter": "python",
   "pygments_lexer": "ipython3",
   "version": "3.12.9"
  }
 },
 "nbformat": 4,
 "nbformat_minor": 2
}
