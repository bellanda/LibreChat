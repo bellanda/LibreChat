{
 "cells": [
  {
   "cell_type": "code",
   "execution_count": 1,
   "metadata": {},
   "outputs": [],
   "source": [
    "import requests\n",
    "\n",
    "LOGIN = \"GB810437\"\n",
    "PASSWORD = \"hpe)2025\"\n",
    "\n",
    "response = requests.post(\"http://localhost:3080/api/auth/login\", json={\"email\": LOGIN, \"password\": PASSWORD})\n",
    "\n",
    "token = response.json()[\"token\"]\n",
    "\n",
    "headers = {\"Authorization\": f\"Bearer {token}\"}"
   ]
  },
  {
   "cell_type": "code",
   "execution_count": 2,
   "metadata": {},
   "outputs": [],
   "source": [
    "headers = {\"Authorization\": f\"Bearer {token}\"}"
   ]
  },
  {
   "cell_type": "markdown",
   "metadata": {},
   "source": [
    "# Health\n"
   ]
  },
  {
   "cell_type": "code",
   "execution_count": 3,
   "metadata": {},
   "outputs": [
    {
     "data": {
      "text/plain": [
       "{'status': 'UP'}"
      ]
     },
     "execution_count": 3,
     "metadata": {},
     "output_type": "execute_result"
    }
   ],
   "source": [
    "response = requests.get(\"http://localhost:8000/health\")\n",
    "response.json()"
   ]
  },
  {
   "cell_type": "markdown",
   "metadata": {},
   "source": [
    "# Get documents ids\n"
   ]
  },
  {
   "cell_type": "code",
   "execution_count": 10,
   "metadata": {},
   "outputs": [
    {
     "data": {
      "text/plain": [
       "['Planejamento Estratégico IA/Macro/Aplicações de Inteligência Artificial nos Setores da HPE Automotores do Brasil.pdf',\n",
       " 'a03bab59-4dc5-4fad-95a1-c2d45979e87c']"
      ]
     },
     "execution_count": 10,
     "metadata": {},
     "output_type": "execute_result"
    }
   ],
   "source": [
    "response = requests.get(\"http://localhost:8000/ids\", headers=headers)\n",
    "documents = response.json()\n",
    "\n",
    "documents"
   ]
  },
  {
   "cell_type": "markdown",
   "metadata": {},
   "source": [
    "# Get document content\n"
   ]
  },
  {
   "cell_type": "code",
   "execution_count": 21,
   "metadata": {},
   "outputs": [
    {
     "name": "stdout",
     "output_type": "stream",
     "text": [
      "ou  de  suspensão  ativa)  através  de  simulações,  maximizando  desempenho  ou  eficiência\n",
      "energética. Além disso, modelos de regressão e árvores de decisão podem analisar dados de\n",
      "testes de durabilidade para prever falhas em componentes e sugerir melhorias de engenharia,\n",
      "aumentando a confiabilidade do produto. Exemplo real:  A Toyota Research Institute desenvolveu\n",
      "algoritmos  de  IA  para  otimizar  o  design  de  baterias  e  materiais  em  veículos  elétricos,\n",
      "encontrando composições que conciliam segurança e autonomia, algo antes alcançado apenas\n",
      "com extensa experimentação manual .\n",
      "Produção (Manufatura e Qualidade)\n",
      "Na fábrica de veículos, a IA desempenha um papel transformador na  Manufatura 4.0 , contribuindo\n",
      "para operações mais eficientes, qualidade superior e redução de downtime. Alguns usos incluem:\n",
      "Manutenção Preditiva de Equipamentos (Machine Learning preditivo e Análise de Anomalias) :\n"
     ]
    }
   ],
   "source": [
    "response = requests.get(\n",
    "    \"http://localhost:8000/documents/?ids=Planejamento Estratégico IA/Macro/Aplicações de Inteligência Artificial nos Setores da HPE Automotores do Brasil.pdf\",\n",
    "    headers=headers,\n",
    ")\n",
    "if isinstance(response.json(), dict):\n",
    "    if response.json().get(\"detail\") == \"One or more IDs not found\":\n",
    "        print(\"documento não encontrado\")\n",
    "else:\n",
    "    print(response.json()[5][\"page_content\"])"
   ]
  },
  {
   "cell_type": "code",
   "execution_count": 22,
   "metadata": {},
   "outputs": [
    {
     "name": "stdout",
     "output_type": "stream",
     "text": [
      "diferentes  modelos  de  veículo.  Essas  melhorias  contribuíram  para  um  ganho  geral  de\n",
      "produtividade e redução de custos operacionais . Além disso, robôs colaborativos  (cobots)6\n",
      "• \n",
      "7\n",
      "7\n",
      "7\n",
      "• \n",
      "8\n",
      "8\n",
      "• \n",
      "9\n",
      "2\n"
     ]
    }
   ],
   "source": [
    "response = requests.get(f\"http://localhost:8000/documents/?ids={documents[0]}\", headers=headers)\n",
    "print(response.json()[0][\"page_content\"])"
   ]
  },
  {
   "cell_type": "markdown",
   "metadata": {},
   "source": [
    "# Upload Document\n"
   ]
  },
  {
   "cell_type": "code",
   "execution_count": 8,
   "metadata": {},
   "outputs": [
    {
     "name": "stdout",
     "output_type": "stream",
     "text": [
      "Status Code: 200\n",
      "Response: {'status': True, 'message': 'File processed successfully.', 'file_id': 'Planejamento Estratégico IA/Macro/Aplicações de Inteligência Artificial nos Setores da HPE Automotores do Brasil.pdf', 'filename': 'Aplicações de Inteligência Artificial nos Setores da HPE Automotores do Brasil.pdf', 'known_type': True}\n"
     ]
    }
   ],
   "source": [
    "import pathlib\n",
    "\n",
    "FILE_PATH = pathlib.Path(\n",
    "    r\"/mnt/c/Users/OU000150/OneDrive - HPE Automotores do Brasil Ltda/Planejamento Estratégico IA/Macro/Aplicações de Inteligência Artificial nos Setores da HPE Automotores do Brasil.pdf\"\n",
    ")\n",
    "\n",
    "start = FILE_PATH.parts.index(\"Planejamento Estratégico IA\")\n",
    "FILE_ID = \"/\".join(FILE_PATH.parts[start:])\n",
    "\n",
    "# Create a file-like object\n",
    "with open(FILE_PATH, \"rb\") as file:\n",
    "    # Prepare the multipart form data\n",
    "    files = {\"file\": (FILE_PATH.name, file, \"application/pdf\")}\n",
    "\n",
    "    data = {\n",
    "        \"file_id\": FILE_ID,\n",
    "        # 'entity_id': 'optional_entity_id'  # Uncomment if needed\n",
    "    }\n",
    "\n",
    "    # Make the POST request\n",
    "    response = requests.post(\"http://localhost:8000/embed\", headers=headers, files=files, data=data)\n",
    "\n",
    "    print(f\"Status Code: {response.status_code}\")\n",
    "    print(f\"Response: {response.json()}\")"
   ]
  },
  {
   "cell_type": "markdown",
   "metadata": {},
   "source": [
    "# Query\n"
   ]
  },
  {
   "cell_type": "code",
   "execution_count": 23,
   "metadata": {},
   "outputs": [
    {
     "name": "stdout",
     "output_type": "stream",
     "text": [
      "com peças de reposição é um desafio no pós-venda automotivo – é preciso ter a peça certa\n",
      "disponível para consertar o carro do cliente rapidamente, mas sem sobrecarregar estoques com\n",
      "itens de pouca demanda. A IA auxilia prevendo quais peças serão mais requisitadas em cada\n",
      "região e período. Modelos de previsão (semelhantes aos de demanda de veículos) consideram\n",
      "histórico de serviços, dados de falhas mais comuns por modelo, quilometragem média da frota\n",
      "circulante e até fatores sazonais (por exemplo, baterias costumam falhar mais no inverno). Com\n",
      "isso, a HPE pode posicionar estoques  de peças nos concessionários e centros de distribuição de\n",
      "forma  inteligente,  reduzindo  esperas  de  clientes  por  encomenda  de  peças.  Exemplo  real:  A\n",
      "Toyota implementou um sistema de IA para gestão de peças nos EUA que conseguiu reduzir em\n",
      "20% o valor em estoque mantendo o mesmo nível de atendimento, graças a previsões mais\n",
      "com peças de reposição é um desafio no pós-venda automotivo – é preciso ter a peça certa\n",
      "disponível para consertar o carro do cliente rapidamente, mas sem sobrecarregar estoques com\n",
      "itens de pouca demanda. A IA auxilia prevendo quais peças serão mais requisitadas em cada\n",
      "região e período. Modelos de previsão (semelhantes aos de demanda de veículos) consideram\n",
      "histórico de serviços, dados de falhas mais comuns por modelo, quilometragem média da frota\n",
      "circulante e até fatores sazonais (por exemplo, baterias costumam falhar mais no inverno). Com\n",
      "isso, a HPE pode posicionar estoques  de peças nos concessionários e centros de distribuição de\n",
      "forma  inteligente,  reduzindo  esperas  de  clientes  por  encomenda  de  peças.  Exemplo  real:  A\n",
      "Toyota implementou um sistema de IA para gestão de peças nos EUA que conseguiu reduzir em\n",
      "20% o valor em estoque mantendo o mesmo nível de atendimento, graças a previsões mais\n",
      "anormais de temperatura de freios indicando desgaste excessivo.  Exemplo real:  A  Hitachi , em\n",
      "parceria com a Penske, desenvolveu soluções de IA que monitoram frotas de caminhões e\n",
      "veículos e  predizem quando componentes podem falhar , orientando manutenção proativa\n",
      ". Esses sistemas sugerem ao mecânico exatamente qual parte verificar/substituir e em que\n",
      "janela de tempo, minimizando quebra nas ruas. Montadoras como a Tesla também utilizam\n",
      "abordagem  preditiva:  seus  carros  enviam  dados  em  tempo  real  e  a  IA  central  identifica\n",
      "anomalias – muitos proprietários recebem notificações de “agendar serviço” antes mesmo de\n",
      "perceberem qualquer problema no veículo. Isso marca uma mudança de paradigma: sair da\n",
      "manutenção reativa para uma manutenção proativa e personalizada  para cada veículo, o que\n",
      "melhora a confiabilidade percebida e a satisfação do cliente .\n",
      "Gestão Otimizada de Peças de Reposição (Forecast de Peças e Otimização de Inventário) : Lidar\n",
      "anormais de temperatura de freios indicando desgaste excessivo.  Exemplo real:  A  Hitachi , em\n",
      "parceria com a Penske, desenvolveu soluções de IA que monitoram frotas de caminhões e\n",
      "veículos e  predizem quando componentes podem falhar , orientando manutenção proativa\n",
      ". Esses sistemas sugerem ao mecânico exatamente qual parte verificar/substituir e em que\n",
      "janela de tempo, minimizando quebra nas ruas. Montadoras como a Tesla também utilizam\n",
      "abordagem  preditiva:  seus  carros  enviam  dados  em  tempo  real  e  a  IA  central  identifica\n",
      "anomalias – muitos proprietários recebem notificações de “agendar serviço” antes mesmo de\n",
      "perceberem qualquer problema no veículo. Isso marca uma mudança de paradigma: sair da\n",
      "manutenção reativa para uma manutenção proativa e personalizada  para cada veículo, o que\n",
      "melhora a confiabilidade percebida e a satisfação do cliente .\n",
      "Gestão Otimizada de Peças de Reposição (Forecast de Peças e Otimização de Inventário) : Lidar\n",
      "Suprimentos e Logística\n",
      "A  gestão  de  suprimentos,  compras  e  logística  de  distribuição  também  pode  aproveitar  IA  para\n",
      "aprimorar a cadeia de valor , garantindo materiais no lugar certo e na hora certa, ao menor custo:\n",
      "Previsão de Demanda e Planejamento de Estoques (Séries Temporais e Redes Recorrentes) :\n",
      "Modelos  de  previsão  orientados  por  IA  ajudam  a  estimar  vendas  futuras  de  veículos  e\n",
      "necessidades de peças com maior acurácia. Algoritmos de regressão e séries temporais (ARIMA,\n",
      "ETS) e modelos modernos como redes neurais LSTM ou Transformers são alimentados com\n",
      "históricos  de  vendas,  tendências  de  mercado,  dados  sazonais  e  até  informações\n",
      "macroeconômicas. O resultado é um forecast  mais preciso da demanda, permitindo ajustar a\n",
      "produção e os pedidos de peças e insumos. Com isso, a HPE pode manter estoques otimizados ,\n",
      "evitando falta de componentes que parariam a produção ou excesso de inventário parado em\n"
     ]
    }
   ],
   "source": [
    "body = {\n",
    "    \"file_id\": \"Planejamento Estratégico IA/Macro/Aplicações de Inteligência Artificial nos Setores da HPE Automotores do Brasil.pdf\",\n",
    "    \"query\": \"Previsão de demanda de peças de reposição\",\n",
    "    \"k\": 5,\n",
    "}\n",
    "\n",
    "response = requests.post(\"http://localhost:8000/query\", headers=headers, json=body)\n",
    "for result in response.json():\n",
    "    print(result[0][\"page_content\"])"
   ]
  }
 ],
 "metadata": {
  "kernelspec": {
   "display_name": ".venv",
   "language": "python",
   "name": "python3"
  },
  "language_info": {
   "codemirror_mode": {
    "name": "ipython",
    "version": 3
   },
   "file_extension": ".py",
   "mimetype": "text/x-python",
   "name": "python",
   "nbconvert_exporter": "python",
   "pygments_lexer": "ipython3",
   "version": "3.12.9"
  }
 },
 "nbformat": 4,
 "nbformat_minor": 2
}
