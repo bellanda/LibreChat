{
 "cells": [
  {
   "cell_type": "code",
   "execution_count": 1,
   "metadata": {},
   "outputs": [],
   "source": [
    "import requests\n",
    "\n",
    "LOGIN = \"GB810437\"\n",
    "PASSWORD = \"hpe)2025\"\n",
    "\n",
    "response = requests.post(\"http://localhost:3080/api/auth/login\", json={\"email\": LOGIN, \"password\": PASSWORD})\n",
    "\n",
    "token = response.json()[\"token\"]\n",
    "\n",
    "headers = {\"Authorization\": f\"Bearer {token}\"}"
   ]
  },
  {
   "cell_type": "code",
   "execution_count": 2,
   "metadata": {},
   "outputs": [],
   "source": [
    "headers = {\"Authorization\": f\"Bearer {token}\"}"
   ]
  },
  {
   "cell_type": "markdown",
   "metadata": {},
   "source": [
    "# Health\n"
   ]
  },
  {
   "cell_type": "code",
   "execution_count": 3,
   "metadata": {},
   "outputs": [
    {
     "data": {
      "text/plain": [
       "{'status': 'UP'}"
      ]
     },
     "execution_count": 3,
     "metadata": {},
     "output_type": "execute_result"
    }
   ],
   "source": [
    "response = requests.get(\"http://localhost:8000/health\")\n",
    "response.json()"
   ]
  },
  {
   "cell_type": "markdown",
   "metadata": {},
   "source": [
    "# Get documents ids\n"
   ]
  },
  {
   "cell_type": "code",
   "execution_count": 7,
   "metadata": {},
   "outputs": [
    {
     "data": {
      "text/plain": [
       "['a03bab59-4dc5-4fad-95a1-c2d45979e87c']"
      ]
     },
     "execution_count": 7,
     "metadata": {},
     "output_type": "execute_result"
    }
   ],
   "source": [
    "response = requests.get(\"http://localhost:8000/ids\", headers=headers)\n",
    "documents = response.json()\n",
    "\n",
    "documents"
   ]
  },
  {
   "cell_type": "markdown",
   "metadata": {},
   "source": [
    "# Get document content\n"
   ]
  },
  {
   "cell_type": "code",
   "execution_count": 19,
   "metadata": {},
   "outputs": [
    {
     "name": "stdout",
     "output_type": "stream",
     "text": [
      "IA na indústria de fertilizantes\n",
      "A inteligência artiﬁcial (IA) já está entregando ganhos de dois dígitos em eﬁciência, redução de custo s e\n",
      "sustentabilidade em operações de processamento mineral e de fertilizantes ao redor do mundo. Para\n",
      "uma misturadora de minérios como a Equilíbrio Fertilizantes, as oportunidades concentram-se em\n",
      "sete frentes: otimização de blends, controle de qualidade on-line, manute nção preditiva, eﬁciência\n",
      "energética via gêmeos digitais, orquestração da cadeia de suprimentos, segurança/ESG e atendimento\n",
      "ao cliente. Os casos descritos abaixo mostram que boa parte da tecnologia necessária já existe e pode\n",
      "ser testada em ciclos rápidos de 90 dias, aproveitando os dados que a empresa coleta hoje e sensores\n",
      "de baixo custo para novas variáveis.\n",
      "1. Otimização de blends e formulações\n",
      "Desaﬁo Como a IA ajuda Ganhos típicos\n",
      "Manter especiﬁcações químicas\n",
      "(N-P-K, micronutrientes) com\n",
      "matérias-primas de composição\n",
      "variávelAlgoritmos de otimização (programação\n"
     ]
    }
   ],
   "source": [
    "response = requests.get(f\"http://localhost:8000/documents/?ids={documents[0]}\", headers=headers)\n",
    "print(response.json()[0][\"page_content\"])"
   ]
  },
  {
   "cell_type": "markdown",
   "metadata": {},
   "source": [
    "# Upload Document\n"
   ]
  },
  {
   "cell_type": "code",
   "execution_count": 9,
   "metadata": {},
   "outputs": [
    {
     "name": "stdout",
     "output_type": "stream",
     "text": [
      "Status Code: 200\n",
      "Response: {'status': True, 'message': 'File processed successfully.', 'file_id': 'Planejamento Estratégico IA/Macro/Aplicações de Inteligência Artificial nos Setores da HPE Automotores do Brasil.pdf', 'filename': 'Aplicações de Inteligência Artificial nos Setores da HPE Automotores do Brasil.pdf', 'known_type': True}\n"
     ]
    }
   ],
   "source": [
    "import pathlib\n",
    "\n",
    "FILE_PATH = pathlib.Path(\n",
    "    r\"/mnt/c/Users/OU000150/OneDrive - HPE Automotores do Brasil Ltda/Planejamento Estratégico IA/Macro/Aplicações de Inteligência Artificial nos Setores da HPE Automotores do Brasil.pdf\"\n",
    ")\n",
    "\n",
    "start = FILE_PATH.parts.index(\"Planejamento Estratégico IA\")\n",
    "FILE_ID = \"/\".join(FILE_PATH.parts[start:])\n",
    "\n",
    "# Create a file-like object\n",
    "with open(FILE_PATH, \"rb\") as file:\n",
    "    # Prepare the multipart form data\n",
    "    files = {\"file\": (FILE_PATH.name, file, \"application/pdf\")}\n",
    "\n",
    "    data = {\n",
    "        \"file_id\": FILE_ID,\n",
    "        # 'entity_id': 'optional_entity_id'  # Uncomment if needed\n",
    "    }\n",
    "\n",
    "    # Make the POST request\n",
    "    response = requests.post(\"http://localhost:8000/embed\", headers=headers, files=files, data=data)\n",
    "\n",
    "    print(f\"Status Code: {response.status_code}\")\n",
    "    print(f\"Response: {response.json()}\")"
   ]
  },
  {
   "cell_type": "markdown",
   "metadata": {},
   "source": [
    "# Query\n"
   ]
  },
  {
   "cell_type": "code",
   "execution_count": 10,
   "metadata": {},
   "outputs": [
    {
     "name": "stdout",
     "output_type": "stream",
     "text": [
      "abordagem  preditiva:  seus  carros  enviam  dados  em  tempo  real  e  a  IA  central  identifica\n",
      "anomalias – muitos proprietários recebem notificações de “agendar serviço” antes mesmo de\n",
      "perceberem qualquer problema no veículo. Isso marca uma mudança de paradigma: sair da\n",
      "manutenção reativa para uma manutenção proativa e personalizada  para cada veículo, o que\n",
      "melhora a confiabilidade percebida e a satisfação do cliente .\n",
      "Gestão Otimizada de Peças de Reposição (Forecast de Peças e Otimização de Inventário) : Lidar\n",
      "com peças de reposição é um desafio no pós-venda automotivo – é preciso ter a peça certa\n",
      "disponível para consertar o carro do cliente rapidamente, mas sem sobrecarregar estoques com\n",
      "itens de pouca demanda. A IA auxilia prevendo quais peças serão mais requisitadas em cada\n",
      "região e período. Modelos de previsão (semelhantes aos de demanda de veículos) consideram\n",
      "histórico de serviços, dados de falhas mais comuns por modelo, quilometragem média da frota\n",
      "circulante e até fatores sazonais (por exemplo, baterias costumam falhar mais no inverno). Com\n",
      "isso, a HPE pode posicionar estoques  de peças nos concessionários e centros de distribuição de\n",
      "forma  inteligente,  reduzindo  esperas  de  clientes  por  encomenda  de  peças.  Exemplo  real:  A\n",
      "Toyota implementou um sistema de IA para gestão de peças nos EUA que conseguiu reduzir em\n",
      "20% o valor em estoque mantendo o mesmo nível de atendimento, graças a previsões mais\n",
      "produção e os pedidos de peças e insumos. Com isso, a HPE pode manter estoques otimizados ,\n",
      "evitando falta de componentes que parariam a produção ou excesso de inventário parado em\n",
      "custo.  Exemplo real:  Concessionárias e montadoras usam IA para prever quais modelos serão\n",
      "mais vendidos em determinadas regiões; a TECOBI (empresa de soluções para concessionárias)\n",
      "notou que, ao analisar tendências e dados históricos, a IA consegue prever padrões de compra\n",
      "futuros  e orientar as filiais sobre quais veículos estocar em cada localidade . Essas previsões\n",
      "orientam  também  o  departamento  de  compras  sobre  quantidades  ideais  de  materiais  a\n",
      "encomendar , integrando a cadeia de suprimentos à demanda real.\n",
      "Otimização de Compras e Seleção de Fornecedores (Aprendizado de Máquina e Grafos) : IA pode\n",
      "apoiar  decisões  de  procurement  analisando  grandes  volumes  de  dados  de  fornecedores\n",
      "(preços, prazos de entrega, qualidade, histórico de desempenho). Algoritmos de classificação e\n",
      "clustering segmentam fornecedores por performance e risco, ajudando o setor de Suprimentos\n",
      "a selecionar parceiros ideais. Além disso, modelos de detecção de anomalias podem monitorar\n",
      "transações de compras e entregas para identificar  riscos na cadeia de suprimentos  – por10\n",
      "• \n",
      "11\n",
      "• \n",
      "12\n",
      "• \n",
      "3\n",
      "Pós-Venda (Serviços e Atendimento após a Venda)\n",
      "O setor de Pós-Venda, que engloba serviços de manutenção, assistência técnica, gestão de peças de\n",
      "reposição  e  atendimento  ao  cliente  após  a  compra  do  veículo,  é  estratégico  para  a  satisfação  e\n",
      "fidelização. A IA oferece diversas soluções para elevar a qualidade e eficiência nessa área:\n",
      "Manutenção Preditiva em Veículos (Aprendizado de Máquina em IoT veicular) : Carros modernos\n",
      "geram dados abundantes por meio de sensores e módulos eletrônicos (telemetria do motor ,\n",
      "alertas  de  falha,  estilo  de  condução).  A  IA  pode  analisar  esses  dados  para  prever  falhas\n",
      "mecânicas ou elétricas  antes que aconteçam, permitindo acionar o cliente para agendar uma\n",
      "correção preventiva. Modelos de classificação e séries temporais aprendem correlações sutis –\n",
      "por exemplo, um padrão de vibração do motor associado a futura falha em suporte, ou leituras\n",
      "anormais de temperatura de freios indicando desgaste excessivo.  Exemplo real:  A  Hitachi , em\n",
      "parceria com a Penske, desenvolveu soluções de IA que monitoram frotas de caminhões e\n",
      "veículos e  predizem quando componentes podem falhar , orientando manutenção proativa\n",
      ". Esses sistemas sugerem ao mecânico exatamente qual parte verificar/substituir e em que\n",
      "janela de tempo, minimizando quebra nas ruas. Montadoras como a Tesla também utilizam\n",
      "abordagem  preditiva:  seus  carros  enviam  dados  em  tempo  real  e  a  IA  central  identifica\n",
      "tarefas acima da cabeça, reduzindo fadiga e lesões – a IA ajusta o nível de assistência conforme\n",
      "o movimento detectado do trabalhador , melhorando a ergonomia.\n",
      "(Nota:  As aplicações acima empregam desde algoritmos clássicos  – p. ex., análise de séries temporais para\n",
      "manutenção preditiva ou visão computacional tradicional – até abordagens modernas  como deep learning\n",
      "em  visão  e  gêmeos  digitais  para  simulação.  Todas  contribuem  para  o  conceito  de  fábrica  inteligente ,\n",
      "elevando em até 20% a eficiência de produção quando bem implementadas .)\n",
      "Suprimentos e Logística\n",
      "A  gestão  de  suprimentos,  compras  e  logística  de  distribuição  também  pode  aproveitar  IA  para\n",
      "aprimorar a cadeia de valor , garantindo materiais no lugar certo e na hora certa, ao menor custo:\n",
      "Previsão de Demanda e Planejamento de Estoques (Séries Temporais e Redes Recorrentes) :\n",
      "Modelos  de  previsão  orientados  por  IA  ajudam  a  estimar  vendas  futuras  de  veículos  e\n",
      "necessidades de peças com maior acurácia. Algoritmos de regressão e séries temporais (ARIMA,\n",
      "ETS) e modelos modernos como redes neurais LSTM ou Transformers são alimentados com\n",
      "históricos  de  vendas,  tendências  de  mercado,  dados  sazonais  e  até  informações\n",
      "macroeconômicas. O resultado é um forecast  mais preciso da demanda, permitindo ajustar a\n",
      "produção e os pedidos de peças e insumos. Com isso, a HPE pode manter estoques otimizados ,\n",
      "Comercial (Vendas e Marketing)\n",
      "No  setor  Comercial  –  englobando  marketing,  vendas  e  relacionamento  com  clientes  –  a  IA  pode\n",
      "revolucionar a forma de atrair e atender compradores, personalizando ofertas e prevendo tendências\n",
      "de mercado:\n",
      "Forecast de Vendas e Análise de Mercado (Modelos de Regressão e Séries Temporais) : Prever as\n",
      "vendas futuras de veículos e serviços é crucial para decisões de produção e estoque. Modelos de\n",
      "IA analisam dados históricos de vendas, interesse de clientes e indicadores econômicos para\n",
      "projeções de demanda  mais confiáveis que métodos tradicionais. Regressões multivariadas e\n",
      "modelos de série temporal (como Prophet ou ARIMA), assim como redes neurais profundas\n",
      "especializadas  em  sequências,  conseguem  captar  padrões  sazonais  e  efeitos  externos\n",
      "(promoções,  PIB,  taxas  de  juros)  nas  vendas.  Exemplo  real:  Uma  análise  preditiva  feita  pela\n",
      "McKinsey demonstrou que montadoras líderes incorporaram IA em seus processos de previsão\n",
      "de vendas, obtendo melhorias significativas na acurácia em comparação com planilhas manuais.\n",
      "Concessionárias utilizando IA relatam que conseguem planejar seus estoques e campanhas com\n",
      "mais assertividade. Conforme citado, IA pode analisar tendências e prever padrões de compra\n",
      "futuros ,  orientando  o  estoque  ideal  de  cada  modelo  em  cada  região  –  por  exemplo,\n",
      "indicando aumento na procura de SUVs em determinada cidade no próximo trimestre, ajustando\n",
      "ações comerciais antecipadamente.\n"
     ]
    }
   ],
   "source": [
    "body = {\n",
    "    \"file_id\": \"Planejamento Estratégico IA/Macro/Aplicações de Inteligência Artificial nos Setores da HPE Automotores do Brasil.pdf\",\n",
    "    \"query\": \"Previsão de demanda de peças de reposição\",\n",
    "    \"k\": 5,\n",
    "}\n",
    "\n",
    "response = requests.post(\"http://localhost:8000/query\", headers=headers, json=body)\n",
    "for result in response.json():\n",
    "    print(result[0][\"page_content\"])"
   ]
  }
 ],
 "metadata": {
  "kernelspec": {
   "display_name": ".venv",
   "language": "python",
   "name": "python3"
  },
  "language_info": {
   "codemirror_mode": {
    "name": "ipython",
    "version": 3
   },
   "file_extension": ".py",
   "mimetype": "text/x-python",
   "name": "python",
   "nbconvert_exporter": "python",
   "pygments_lexer": "ipython3",
   "version": "3.12.9"
  }
 },
 "nbformat": 4,
 "nbformat_minor": 2
}
